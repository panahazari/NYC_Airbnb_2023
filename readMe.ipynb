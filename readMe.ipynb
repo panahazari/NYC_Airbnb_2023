{
 "cells": [
  {
   "attachments": {},
   "cell_type": "markdown",
   "metadata": {},
   "source": [
    "# IA651 Final Project\n",
    "\n",
    "## Project Description\n",
    "This is the final project for the course ia651 (Applied Machine Learning) of Clarkson University (Spring 2023). The goal for the final project is to select an appropriate private or public dataset and build a predictive model for it. Data cleaning, exploration and preparing should be done to prepare the data to build the prediction model. \n",
    "\n",
    "For the selected Airbnb dataset start with being familiar with dataset, cleaning dataset, exploring and explaining, finding relations and building model and doing prediction. \n",
    "\n",
    "## NYC Airbnb listing Dataset\n",
    "Airbnb is an online marketplace that connects people who are looking for a place to stay with people who have extra space to rent out. It was founded in 2008 and has since grown into a global platform with listings in over 220 countries and regions. On Airbnb, hosts can list their homes, apartments, guesthouses, or other types of accommodations, and travelers can search for and book these spaces for short-term stays. Airbnb also offers experiences and activities hosted by local experts in various locations, allowing travelers to immerse themselves in the culture and community of their destination.\n",
    "\n",
    "The Airbnb NYC listing dataset is a collection of information about listings in New York City that are available on the Airbnb platform. It contains information such as the location, type of accommodation, price, number of bedrooms, amenities, availability, and reviews from guests. The dataset was first released in 2015 and has been updated annually since then.\n",
    "\n",
    "The dataset is publicly available and has been used by researchers to analyze various aspects of the Airbnb market in New York City. For example, researchers have used the dataset to study the impact of Airbnb on the housing market, the distribution of listings across neighborhoods, and the characteristics of hosts and guests. The dataset includes information on over 50,000 listings in New York City, making it one of the largest Airbnb datasets available.\n",
    "\n",
    "## Resources\n",
    "**Dataset** : [NYC Airbnb 2023](http://data.insideairbnb.com/united-states/ny/new-york-city/2023-03-06/data/listings.csv.gz/)\n",
    "\n",
    "**Python Version** : 3.11\n",
    "\n",
    "**Packages**: Numpy, Pandas, Keras, Matplotlib, Scikit, Seaborn\n",
    "\n",
    "**IDE** : Visual Studio Code, Jupyter Notebook\n",
    "\n",
    "\n",
    "## Dataset features\n",
    "\n",
    "List of the important features which we will use in this project.\n",
    "\n",
    "* **id**: A unique identifier for each Airbnb listing.\n",
    "* **name**: The name or title of the Airbnb listing.\n",
    "* **host_id**: A unique identifier for the host of the Airbnb listing.\n",
    "* **host_name**: The name of the host of the Airbnb listing.\n",
    "* **neighbourhood_group**: The borough (i.e. neighborhood group) in which the Airbnb listing is located.\n",
    "* **neighbourhood**: The specific neighborhood in which the Airbnb listing is located.\n",
    "* **latitude**: The latitude coordinate of the Airbnb listing's location.\n",
    "* **longitude**: The longitude coordinate of the Airbnb listing's location.\n",
    "* **room_type**: The type of room or space that is being rented (e.g. Entire home/apt, Private room, Shared room).\n",
    "* **price**: The nightly price for the Airbnb listing.\n",
    "* **minimum_nights**: The minimum number of nights that a renter must stay in the Airbnb listing.\n",
    "* **number_of_reviews**: The number of reviews that the Airbnb listing has received.\n",
    "* **last_review**: The date of the most recent review of the Airbnb listing.\n",
    "* **reviews_per_month**: The average number of reviews per month for the Airbnb listing.\n",
    "* **calculated_host_listings_count**: The number of listings that the host has on Airbnb.\n",
    "* **availability_365**: The number of days that the Airbnb listing is available for rent during the next 365 days.\n",
    "\n",
    "* **amenities**: List of amenities reported by the host.\n",
    "* **bedrooms**: number of bedrooms available for use.\n",
    "* **beds**: number of beds.\n",
    "* **bathrooms**: number of bathrooms available for use.\n",
    "* **accommodates**: number of people who can use the listing\n",
    "\n",
    "## Data cleaning\n",
    "\n",
    "The first step is to know the dataset itself and it's general status. "
   ]
  },
  {
   "cell_type": "code",
   "execution_count": 1,
   "metadata": {},
   "outputs": [
    {
     "name": "stderr",
     "output_type": "stream",
     "text": [
      "C:\\Users\\panaham\\AppData\\Roaming\\Python\\Python37\\site-packages\\IPython\\core\\interactiveshell.py:3553: DtypeWarning: Columns (68) have mixed types.Specify dtype option on import or set low_memory=False.\n",
      "  exec(code_obj, self.user_global_ns, self.user_ns)\n"
     ]
    },
    {
     "data": {
      "text/plain": [
       "(42931, 75)"
      ]
     },
     "execution_count": 1,
     "metadata": {},
     "output_type": "execute_result"
    }
   ],
   "source": [
    "import pandas as pd\n",
    "\n",
    "df = pd.read_csv('./data/listings.csv')\n",
    "df.shape"
   ]
  }
 ],
 "metadata": {
  "kernelspec": {
   "display_name": "Python 3",
   "language": "python",
   "name": "python3"
  },
  "language_info": {
   "codemirror_mode": {
    "name": "ipython",
    "version": 3
   },
   "file_extension": ".py",
   "mimetype": "text/x-python",
   "name": "python",
   "nbconvert_exporter": "python",
   "pygments_lexer": "ipython3",
   "version": "3.7.8"
  },
  "orig_nbformat": 4
 },
 "nbformat": 4,
 "nbformat_minor": 2
}
